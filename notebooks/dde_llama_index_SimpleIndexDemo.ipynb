{
  "cells": [
    {
      "cell_type": "markdown",
      "id": "1dae7d57",
      "metadata": {
        "id": "1dae7d57"
      },
      "source": [
        "<a href=\"https://colab.research.google.com/github/run-llama/llama_index/blob/main/docs/examples/vector_stores/SimpleIndexDemo.ipynb\" target=\"_parent\"><img src=\"https://colab.research.google.com/assets/colab-badge.svg\" alt=\"Open In Colab\"/></a>"
      ]
    },
    {
      "cell_type": "markdown",
      "id": "9c48213d-6e6a-4c10-838a-2a7c710c3a05",
      "metadata": {
        "id": "9c48213d-6e6a-4c10-838a-2a7c710c3a05"
      },
      "source": [
        "# Simple Vector Store"
      ]
    },
    {
      "cell_type": "code",
      "execution_count": null,
      "id": "b9c76131",
      "metadata": {
        "id": "b9c76131"
      },
      "outputs": [],
      "source": [
        "!pip install llama-index"
      ]
    },
    {
      "cell_type": "code",
      "execution_count": null,
      "id": "aadf16de",
      "metadata": {
        "id": "aadf16de"
      },
      "outputs": [],
      "source": [
        "import os\n",
        "import openai\n",
        "\n",
        "os.environ[\"OPENAI_API_KEY\"] = \"\"\n",
        "openai.api_key = os.environ[\"OPENAI_API_KEY\"]"
      ]
    },
    {
      "cell_type": "markdown",
      "id": "50d3b817-b70e-4667-be4f-d3a0fe4bd119",
      "metadata": {
        "id": "50d3b817-b70e-4667-be4f-d3a0fe4bd119"
      },
      "source": [
        "#### Load documents, build the VectorStoreIndex"
      ]
    },
    {
      "cell_type": "code",
      "execution_count": null,
      "id": "690a6918-7c75-4f95-9ccc-d2c4a1fe00d7",
      "metadata": {
        "id": "690a6918-7c75-4f95-9ccc-d2c4a1fe00d7"
      },
      "outputs": [],
      "source": [
        "import logging\n",
        "import sys\n",
        "\n",
        "logging.basicConfig(stream=sys.stdout, level=logging.INFO)\n",
        "logging.getLogger().addHandler(logging.StreamHandler(stream=sys.stdout))\n",
        "\n",
        "from llama_index import (\n",
        "    VectorStoreIndex,\n",
        "    SimpleDirectoryReader,\n",
        "    load_index_from_storage,\n",
        "    StorageContext,\n",
        ")\n",
        "from IPython.display import Markdown, display"
      ]
    },
    {
      "cell_type": "markdown",
      "id": "290eb3c0",
      "metadata": {
        "id": "290eb3c0"
      },
      "source": [
        "Download Data"
      ]
    },
    {
      "cell_type": "code",
      "execution_count": null,
      "id": "1a3916d7",
      "metadata": {
        "colab": {
          "base_uri": "https://localhost:8080/"
        },
        "id": "1a3916d7",
        "outputId": "df2dd001-5f18-4450-c3e4-ccbf97a38c97"
      },
      "outputs": [
        {
          "output_type": "stream",
          "name": "stdout",
          "text": [
            "--2023-12-12 13:35:46--  https://raw.githubusercontent.com/run-llama/llama_index/main/docs/examples/data/paul_graham/paul_graham_essay.txt\n",
            "Resolving raw.githubusercontent.com (raw.githubusercontent.com)... 185.199.108.133, 185.199.109.133, 185.199.110.133, ...\n",
            "Connecting to raw.githubusercontent.com (raw.githubusercontent.com)|185.199.108.133|:443... connected.\n",
            "HTTP request sent, awaiting response... 200 OK\n",
            "Length: 75042 (73K) [text/plain]\n",
            "Saving to: ‘data/paul_graham/paul_graham_essay.txt’\n",
            "\n",
            "\r          data/paul   0%[                    ]       0  --.-KB/s               \rdata/paul_graham/pa 100%[===================>]  73.28K  --.-KB/s    in 0.01s   \n",
            "\n",
            "2023-12-12 13:35:46 (6.01 MB/s) - ‘data/paul_graham/paul_graham_essay.txt’ saved [75042/75042]\n",
            "\n"
          ]
        }
      ],
      "source": [
        "!mkdir -p 'data/paul_graham/'\n",
        "!wget 'https://raw.githubusercontent.com/run-llama/llama_index/main/docs/examples/data/paul_graham/paul_graham_essay.txt' -O 'data/paul_graham/paul_graham_essay.txt'"
      ]
    },
    {
      "cell_type": "code",
      "execution_count": null,
      "id": "03d1691e-544b-454f-825b-5ee12f7faa8a",
      "metadata": {
        "id": "03d1691e-544b-454f-825b-5ee12f7faa8a"
      },
      "outputs": [],
      "source": [
        "# load documents\n",
        "documents = SimpleDirectoryReader(\"./data/paul_graham/\").load_data()"
      ]
    },
    {
      "cell_type": "code",
      "execution_count": null,
      "id": "ad144ee7-96da-4dd6-be00-fd6cf0c78e58",
      "metadata": {
        "id": "ad144ee7-96da-4dd6-be00-fd6cf0c78e58"
      },
      "outputs": [],
      "source": [
        "index = VectorStoreIndex.from_documents(documents)"
      ]
    },
    {
      "cell_type": "code",
      "execution_count": null,
      "id": "2bbccf1d-ac39-427c-b3a3-f8e9d1d12348",
      "metadata": {
        "id": "2bbccf1d-ac39-427c-b3a3-f8e9d1d12348"
      },
      "outputs": [],
      "source": [
        "# save index to disk\n",
        "index.set_index_id(\"vector_index\")\n",
        "index.storage_context.persist(\"./storage\")"
      ]
    },
    {
      "cell_type": "code",
      "execution_count": null,
      "id": "197ca78e-1310-474d-91e3-877c3636b901",
      "metadata": {
        "id": "197ca78e-1310-474d-91e3-877c3636b901"
      },
      "outputs": [],
      "source": [
        "# rebuild storage context\n",
        "storage_context = StorageContext.from_defaults(persist_dir=\"storage\")\n",
        "\n",
        "# load index\n",
        "index = load_index_from_storage(storage_context, index_id=\"vector_index\")"
      ]
    },
    {
      "cell_type": "markdown",
      "id": "b6caf93b-6345-4c65-a346-a95b0f1746c4",
      "metadata": {
        "id": "b6caf93b-6345-4c65-a346-a95b0f1746c4"
      },
      "source": [
        "#### Query Index"
      ]
    },
    {
      "cell_type": "code",
      "execution_count": null,
      "id": "85466fdf-93f3-4cb1-a5f9-0056a8245a6f",
      "metadata": {
        "id": "85466fdf-93f3-4cb1-a5f9-0056a8245a6f"
      },
      "outputs": [],
      "source": [
        "# set Logging to DEBUG for more detailed outputs\n",
        "query_engine = index.as_query_engine(response_mode=\"tree_summarize\")\n",
        "response = query_engine.query(\"What did the author do growing up?\")"
      ]
    },
    {
      "cell_type": "code",
      "execution_count": null,
      "id": "bdda1b2c-ae46-47cf-91d7-3153e8d0473b",
      "metadata": {
        "colab": {
          "base_uri": "https://localhost:8080/",
          "height": 81
        },
        "id": "bdda1b2c-ae46-47cf-91d7-3153e8d0473b",
        "outputId": "0b54e168-0f09-4547-f7e3-604e6be70d90"
      },
      "outputs": [
        {
          "output_type": "display_data",
          "data": {
            "text/plain": [
              "<IPython.core.display.Markdown object>"
            ],
            "text/markdown": "<b>The author, growing up, worked on writing and programming. They wrote short stories and tried writing programs on an IBM 1401 computer in 9th grade. They later got a microcomputer and started programming more extensively, writing simple games and a word processor. They initially planned to study philosophy in college but switched to AI.</b>"
          },
          "metadata": {}
        }
      ],
      "source": [
        "display(Markdown(f\"<b>{response}</b>\"))"
      ]
    },
    {
      "cell_type": "markdown",
      "id": "c80abba3-d338-42fd-9df3-b4e5ceb01cdf",
      "metadata": {
        "id": "c80abba3-d338-42fd-9df3-b4e5ceb01cdf"
      },
      "source": [
        "**Query Index with SVM/Linear Regression**\n",
        "\n",
        "Use Karpathy's [SVM-based](https://twitter.com/karpathy/status/1647025230546886658?s=20) approach. Set query as positive example, all other datapoints as negative examples, and then fit a hyperplane."
      ]
    },
    {
      "cell_type": "code",
      "execution_count": null,
      "id": "35e029e6-467b-4533-b566-a1568cc5f361",
      "metadata": {
        "colab": {
          "base_uri": "https://localhost:8080/",
          "height": 227
        },
        "id": "35e029e6-467b-4533-b566-a1568cc5f361",
        "outputId": "1aaefffe-d340-46bc-bc50-4d432f668be9"
      },
      "outputs": [
        {
          "output_type": "stream",
          "name": "stdout",
          "text": [
            "Query mode: svm\n"
          ]
        },
        {
          "output_type": "display_data",
          "data": {
            "text/plain": [
              "<IPython.core.display.Markdown object>"
            ],
            "text/markdown": "<b>The author wrote short stories and also worked on programming, specifically on an IBM 1401 computer in 9th grade. They later got a microcomputer and started programming on it, writing simple games and a word processor. They initially planned to study philosophy in college but eventually switched to AI.</b>"
          },
          "metadata": {}
        },
        {
          "output_type": "stream",
          "name": "stdout",
          "text": [
            "Query mode: linear_regression\n"
          ]
        },
        {
          "output_type": "display_data",
          "data": {
            "text/plain": [
              "<IPython.core.display.Markdown object>"
            ],
            "text/markdown": "<b>The author wrote short stories and also worked on programming, specifically on an IBM 1401 computer in 9th grade. They later got a microcomputer, a TRS-80, and started programming more extensively. They also mentioned their interest in studying philosophy in college but eventually switched to AI.</b>"
          },
          "metadata": {}
        },
        {
          "output_type": "stream",
          "name": "stdout",
          "text": [
            "Query mode: logistic_regression\n"
          ]
        },
        {
          "output_type": "display_data",
          "data": {
            "text/plain": [
              "<IPython.core.display.Markdown object>"
            ],
            "text/markdown": "<b>The author wrote short stories and worked on programming, specifically on an IBM 1401 computer in 9th grade. They later got a microcomputer, a TRS-80, and started programming more extensively. They also mentioned their interest in studying philosophy in college but eventually switched to AI.</b>"
          },
          "metadata": {}
        }
      ],
      "source": [
        "query_modes = [\n",
        "    \"svm\",\n",
        "    \"linear_regression\",\n",
        "    \"logistic_regression\",\n",
        "]\n",
        "for query_mode in query_modes:\n",
        "    # set Logging to DEBUG for more detailed outputs\n",
        "    query_engine = index.as_query_engine(vector_store_query_mode=query_mode)\n",
        "    response = query_engine.query(\"What did the author do growing up?\")\n",
        "    print(f\"Query mode: {query_mode}\")\n",
        "    display(Markdown(f\"<b>{response}</b>\"))"
      ]
    },
    {
      "cell_type": "code",
      "execution_count": null,
      "id": "0bab9fd7-b0b9-4be1-8f05-eeb19bbe287a",
      "metadata": {
        "colab": {
          "base_uri": "https://localhost:8080/",
          "height": 64
        },
        "id": "0bab9fd7-b0b9-4be1-8f05-eeb19bbe287a",
        "outputId": "93535c94-1569-4473-e4e1-b1b5fe340eff"
      },
      "outputs": [
        {
          "output_type": "display_data",
          "data": {
            "text/plain": [
              "<IPython.core.display.Markdown object>"
            ],
            "text/markdown": "<b>The author wrote short stories and worked on programming, specifically on an IBM 1401 computer in 9th grade. They later got a microcomputer, a TRS-80, and started programming more extensively. They also mentioned their interest in studying philosophy in college but eventually switched to AI.</b>"
          },
          "metadata": {}
        }
      ],
      "source": [
        "display(Markdown(f\"<b>{response}</b>\"))"
      ]
    },
    {
      "cell_type": "code",
      "execution_count": null,
      "id": "c9f256c8-b5ed-42db-b4de-8bd78a9540b0",
      "metadata": {
        "colab": {
          "base_uri": "https://localhost:8080/"
        },
        "id": "c9f256c8-b5ed-42db-b4de-8bd78a9540b0",
        "outputId": "d220c151-84b2-4b84-9d7f-ac7159de142e"
      },
      "outputs": [
        {
          "output_type": "stream",
          "name": "stdout",
          "text": [
            "What I Worked On\n",
            "\n",
            "February 2021\n",
            "\n",
            "Before college the two main things I worked on, outside of school, were writing and programming. I didn't write essays. I wrote what beginning writers were supposed to write then, and probably still are: short stories. My stories were awful. They had hardly any plot, just characters with strong feelings, which I imagined made them deep.\n",
            "\n",
            "The first programs I tried writing were on the IBM 1401 that our school district used for what was then called \"data processing.\" This was in 9th grade, so I was 13 or 14. The school district's 1401 happened to be in the basement of our junior high school, and my friend Rich Draves and I got permission to use it. It was like a mini Bond villain's lair down there, with all these alien-looking machines — CPU, disk drives, printer, card reader — sitting up on a raised floor under bright fluorescent lights.\n",
            "\n",
            "The language we used was an early version of Fortran. You had to type programs on punch cards, then stack them in the card reader and press a button to load the program into memory and run it. The result would ordinarily be to print something on the spectacularly loud printer.\n",
            "\n",
            "I was puzzled by the 1401. I couldn't figure out what to do with it. And in retrospect there's not much I could have done with it. The only form of input to programs was data stored on punched cards, and I didn't have any data stored on punched cards. The only other option was to do things that didn't rely on any input, like calculate approximations of pi, but I didn't know enough math to do anything interesting of that type. So I'm not surprised I can't remember any programs I wrote, because they can't have done much. My clearest memory is of the moment I learned it was possible for programs not to terminate, when one of mine didn't. On a machine without time-sharing, this was a social as well as a technical error, as the data center manager's expression made clear.\n",
            "\n",
            "With microcomputers, everything changed. Now you could have a computer sitting right in front of you, on a desk, that could respond to your keystrokes as it was running instead of just churning through a stack of punch cards and then stopping. [1]\n",
            "\n",
            "The first of my friends to get a microcomputer built it himself. It was sold as a kit by Heathkit. I remember vividly how impressed and envious I felt watching him sitting in front of it, typing programs right into the computer.\n",
            "\n",
            "Computers were expensive in those days and it took me years of nagging before I convinced my father to buy one, a TRS-80, in about 1980. The gold standard then was the Apple II, but a TRS-80 was good enough. This was when I really started programming. I wrote simple games, a program to predict how high my model rockets would fly, and a word processor that my father used to write at least one book. There was only room in memory for about 2 pages of text, so he'd write 2 pages at a time and then print them out, but it was a lot better than a typewriter.\n",
            "\n",
            "Though I liked programming, I didn't plan to study it in college. In college I was going to study philosophy, which sounded much more powerful. It seemed, to my naive high school self, to be the study of the ultimate truths, compared to which the things studied in other fields would be mere domain knowledge. What I discovered when I got to college was that the other fields took up so much of the space of ideas that there wasn't much left for these supposed ultimate truths. All that seemed left for philosophy were edge cases that people in other fields felt could safely be ignored.\n",
            "\n",
            "I couldn't have put this into words when I was 18. All I knew at the time was that I kept taking philosophy courses and they kept being boring. So I decided to switch to AI.\n",
            "\n",
            "AI was in the air in the mid 1980s, but there were two things especially that made me want to work on it: a novel by Heinlein called The Moon is a Harsh Mistress, which featured an intelligent computer called Mike, and a PBS documentary that showed Terry Winograd using SHRDLU. I haven't tried rereading The Moon is a Harsh Mistress, so I don't know how well it has aged, but when I read it I was drawn entirely into its world. It seemed only a matter of time before we'd have Mike, and when I saw Winograd using SHRDLU, it seemed like that time would be a few years at most.\n"
          ]
        }
      ],
      "source": [
        "print(response.source_nodes[0].text)"
      ]
    },
    {
      "cell_type": "markdown",
      "id": "0da9092e",
      "metadata": {
        "id": "0da9092e"
      },
      "source": [
        "**Query Index with custom embedding string**"
      ]
    },
    {
      "cell_type": "code",
      "execution_count": null,
      "id": "d57f2c87",
      "metadata": {
        "id": "d57f2c87"
      },
      "outputs": [],
      "source": [
        "from llama_index.schema import QueryBundle"
      ]
    },
    {
      "cell_type": "code",
      "execution_count": null,
      "id": "bbecbdb5",
      "metadata": {
        "id": "bbecbdb5"
      },
      "outputs": [],
      "source": [
        "query_bundle = QueryBundle(\n",
        "    query_str=\"What did the author do growing up?\",\n",
        "    custom_embedding_strs=[\"The author grew up painting.\"],\n",
        ")\n",
        "query_engine = index.as_query_engine()\n",
        "response = query_engine.query(query_bundle)"
      ]
    },
    {
      "cell_type": "code",
      "execution_count": null,
      "id": "d4d1e028",
      "metadata": {
        "colab": {
          "base_uri": "https://localhost:8080/",
          "height": 46
        },
        "id": "d4d1e028",
        "outputId": "c8a35645-6863-4f8c-ef78-b2cb2cf9a66a"
      },
      "outputs": [
        {
          "output_type": "display_data",
          "data": {
            "text/plain": [
              "<IPython.core.display.Markdown object>"
            ],
            "text/markdown": "<b>The context does not provide information about what the author did growing up.</b>"
          },
          "metadata": {}
        }
      ],
      "source": [
        "display(Markdown(f\"<b>{response}</b>\"))"
      ]
    },
    {
      "cell_type": "markdown",
      "id": "c0c5d984-db20-4679-adb1-1ea956a64150",
      "metadata": {
        "id": "c0c5d984-db20-4679-adb1-1ea956a64150"
      },
      "source": [
        "#### Query Index with Filters\n",
        "\n",
        "We can also filter our queries using metadata"
      ]
    },
    {
      "cell_type": "code",
      "execution_count": null,
      "id": "59b8379d-f08f-4334-8525-6ddf4d13e33f",
      "metadata": {
        "id": "59b8379d-f08f-4334-8525-6ddf4d13e33f"
      },
      "outputs": [],
      "source": [
        "from llama_index import Document\n",
        "\n",
        "doc = Document(text=\"target\", metadata={\"tag\": \"target\"})\n",
        "\n",
        "index.insert(doc)"
      ]
    },
    {
      "cell_type": "code",
      "execution_count": null,
      "id": "aa281be0-1c7d-4d9c-a208-0ee5b7ab9953",
      "metadata": {
        "id": "aa281be0-1c7d-4d9c-a208-0ee5b7ab9953"
      },
      "outputs": [],
      "source": [
        "from llama_index.vector_stores.types import ExactMatchFilter, MetadataFilters\n",
        "\n",
        "filters = MetadataFilters(\n",
        "    filters=[ExactMatchFilter(key=\"tag\", value=\"target\")]\n",
        ")\n",
        "\n",
        "retriever = index.as_retriever(\n",
        "    similarity_top_k=20,\n",
        "    filters=filters,\n",
        ")\n",
        "\n",
        "source_nodes = retriever.retrieve(\"What did the author do growing up?\")"
      ]
    },
    {
      "cell_type": "code",
      "execution_count": null,
      "id": "c1c5ab85-25e4-4460-8b6a-3c119d92ba48",
      "metadata": {
        "colab": {
          "base_uri": "https://localhost:8080/"
        },
        "id": "c1c5ab85-25e4-4460-8b6a-3c119d92ba48",
        "outputId": "4236352c-eda9-45d6-9b57-34d390e9c01e"
      },
      "outputs": [
        {
          "output_type": "stream",
          "name": "stdout",
          "text": [
            "1\n"
          ]
        }
      ],
      "source": [
        "# retrieves only our target node, even though we set the top k to 20\n",
        "print(len(source_nodes))"
      ]
    },
    {
      "cell_type": "code",
      "execution_count": null,
      "id": "2b32da86",
      "metadata": {
        "colab": {
          "base_uri": "https://localhost:8080/"
        },
        "id": "2b32da86",
        "outputId": "02aa44dd-d0f0-4e84-ca2b-75777b314c9c"
      },
      "outputs": [
        {
          "output_type": "stream",
          "name": "stdout",
          "text": [
            "target\n",
            "{'tag': 'target'}\n"
          ]
        }
      ],
      "source": [
        "print(source_nodes[0].text)\n",
        "print(source_nodes[0].metadata)"
      ]
    }
  ],
  "metadata": {
    "kernelspec": {
      "display_name": "llama-index",
      "language": "python",
      "name": "llama-index"
    },
    "language_info": {
      "codemirror_mode": {
        "name": "ipython",
        "version": 3
      },
      "file_extension": ".py",
      "mimetype": "text/x-python",
      "name": "python",
      "nbconvert_exporter": "python",
      "pygments_lexer": "ipython3"
    },
    "colab": {
      "provenance": []
    }
  },
  "nbformat": 4,
  "nbformat_minor": 5
}